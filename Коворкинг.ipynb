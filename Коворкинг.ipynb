{
  "nbformat": 4,
  "nbformat_minor": 0,
  "metadata": {
    "colab": {
      "provenance": [],
      "authorship_tag": "ABX9TyMXSxT3C3YEk+znoHzmr3GW",
      "include_colab_link": true
    },
    "kernelspec": {
      "name": "python3",
      "display_name": "Python 3"
    },
    "language_info": {
      "name": "python"
    }
  },
  "cells": [
    {
      "cell_type": "markdown",
      "metadata": {
        "id": "view-in-github",
        "colab_type": "text"
      },
      "source": [
        "<a href=\"https://colab.research.google.com/github/kirill-kozlitin/test_tasks/blob/main/%D0%9A%D0%BE%D0%B2%D0%BE%D1%80%D0%BA%D0%B8%D0%BD%D0%B3.ipynb\" target=\"_parent\"><img src=\"https://colab.research.google.com/assets/colab-badge.svg\" alt=\"Open In Colab\"/></a>"
      ]
    },
    {
      "cell_type": "markdown",
      "source": [
        "## Погнали"
      ],
      "metadata": {
        "id": "NHDu7uTXXlOH"
      }
    },
    {
      "cell_type": "markdown",
      "source": [
        "Попробуем расчитать наиболее выгодную комбинацию факторов для коворкинга\n",
        "\n",
        "Для этого, создадим все возможные комбинации факторов, которые влияют на прибыль.\n",
        "\n",
        "1. Площадь помещения, s\n",
        "1. Цена за м2, price_perm2\n",
        "1. Количество рабочих мест в openspace, nwork_open\n",
        "1. Планируемая площадь для р/места в openspace, s_open\n",
        "1. Количество рабочих мест в офисах, nwork_office\n",
        "1. Планируемая площадь для р/места в офисе, s_office\n",
        "1. Цена за день работы в openspace, price_open\n",
        "1. Цена за месяц работы в офисе, price_office\n",
        "1. Средняя ежедневная загрузка в %, occupancy\n",
        "1. Сумма комунальных платежей, sum_eng\n",
        "1. Ежемесячные расходы на интернет, уборку и охрану, expenses\n",
        "1. Учесть налоги, tax"
      ],
      "metadata": {
        "id": "hQMcJLo39Dwe"
      }
    },
    {
      "cell_type": "code",
      "source": [
        "import pandas as pd\n",
        "import numpy as np\n",
        "import itertools\n",
        "import matplotlib.pyplot as plt\n",
        "#\n",
        "\n",
        "# # Выведите результат\n",
        "# for combination in all_combinations:\n",
        "#     print(combination)\n",
        "# Этот код создаст все возможные комбинации\n",
        "pd.set_option('display.float_format', '{:.2f}'.format)"
      ],
      "metadata": {
        "id": "oWQcUw2KXiwo"
      },
      "execution_count": 2,
      "outputs": []
    },
    {
      "cell_type": "code",
      "source": [
        "# Площадь помещения, s\n",
        "s = [i for i in range(70, 120, 10)]\n",
        "print('Площадь помещения:', s)\n",
        "\n",
        "price_perm2 = [i for i in range(1000, 2200, 200)]\n",
        "print('Цена за м2:', price_perm2)\n",
        "\n",
        "nwork_open = [i for i in range(5, 30)]\n",
        "print('Количество рабочих мест в openspace:', nwork_open)\n",
        "\n",
        "s_open = [round(i, 1) for i in np.arange(4, 6.5, 0.5)]\n",
        "print('Планируемая площадь для р/места в openspace:', s_open)\n",
        "\n",
        "nwork_office = [i for i in range(0, 6, 1)]\n",
        "print('Количество рабочих мест в офисах:', nwork_office)\n",
        "\n",
        "s_office = [i for i in range(6, 8, 1)]\n",
        "print('Планируемая площадь для р/места в офисе:', s_office)\n",
        "\n",
        "price_open = [i for i in range(8000, 10500, 500)]\n",
        "print('Цена за месяц работы в openspace:', price_open)\n",
        "\n",
        "price_office = [i for i in range(15000, 20000, 1000)]\n",
        "print('Цена за месяц работы в офисе:', price_office)\n",
        "\n",
        "occupancy = [round(i, 1) for i in np.arange(0.2, 0.9, 0.1)]\n",
        "print('Средняя ежедневная загрузка:', occupancy)\n",
        "\n",
        "sum_eng = [10000]\n",
        "print('Сумма комунальных платежей:', sum_eng)\n",
        "\n",
        "expenses = [5000 + 20000]\n",
        "print('Ежемесячные расходы на интернет, уборку', expenses)"
      ],
      "metadata": {
        "id": "A6dioqg0Xiyz",
        "colab": {
          "base_uri": "https://localhost:8080/"
        },
        "outputId": "fc8ec45c-62ab-45d8-f88e-e47fcc2cba4a"
      },
      "execution_count": 3,
      "outputs": [
        {
          "output_type": "stream",
          "name": "stdout",
          "text": [
            "Площадь помещения: [70, 80, 90, 100, 110]\n",
            "Цена за м2: [1000, 1200, 1400, 1600, 1800, 2000]\n",
            "Количество рабочих мест в openspace: [5, 6, 7, 8, 9, 10, 11, 12, 13, 14, 15, 16, 17, 18, 19, 20, 21, 22, 23, 24, 25, 26, 27, 28, 29]\n",
            "Планируемая площадь для р/места в openspace: [4.0, 4.5, 5.0, 5.5, 6.0]\n",
            "Количество рабочих мест в офисах: [0, 1, 2, 3, 4, 5]\n",
            "Планируемая площадь для р/места в офисе: [6, 7]\n",
            "Цена за месяц работы в openspace: [8000, 8500, 9000, 9500, 10000]\n",
            "Цена за месяц работы в офисе: [15000, 16000, 17000, 18000, 19000]\n",
            "Средняя ежедневная загрузка: [0.2, 0.3, 0.4, 0.5, 0.6, 0.7, 0.8]\n",
            "Сумма комунальных платежей: [10000]\n",
            "Ежемесячные расходы на интернет, уборку [25000]\n"
          ]
        }
      ]
    },
    {
      "cell_type": "code",
      "source": [
        "# создаем все комбинации\n",
        "all_combinations = list(itertools.product(s,\n",
        "                                          price_perm2,\n",
        "                                          nwork_open,\n",
        "                                          s_open,\n",
        "                                          nwork_office,\n",
        "                                          s_office,\n",
        "                                          price_open,\n",
        "                                          price_office,\n",
        "                                          occupancy,\n",
        "                                          sum_eng,\n",
        "                                          expenses))"
      ],
      "metadata": {
        "id": "uNF0eX92Xi1C"
      },
      "execution_count": 4,
      "outputs": []
    },
    {
      "cell_type": "code",
      "source": [
        "df = pd.DataFrame(data=all_combinations, columns=['Площадь помещения',\n",
        "                                               'Цена за м2',\n",
        "                                               'Количество рабочих мест в openspace',\n",
        "                                               'Планируемая площадь для р/места в openspace',\n",
        "                                               'Количество рабочих мест в офисах',\n",
        "                                               'Планируемая площадь для р/места в офисе',\n",
        "                                               'Цена за месяц работы в openspace',\n",
        "                                               'Цена за месяц работы в офисе',\n",
        "                                               'Средняя ежедневная загрузка',\n",
        "                                               'Сумма комунальных платежей',\n",
        "                                               'Ежемесячные расходы'])\n",
        "df.shape"
      ],
      "metadata": {
        "id": "JuNPfewnXi3G",
        "colab": {
          "base_uri": "https://localhost:8080/"
        },
        "outputId": "68192fb7-e9e2-4b56-ddbb-bd07b4299c56"
      },
      "execution_count": 5,
      "outputs": [
        {
          "output_type": "execute_result",
          "data": {
            "text/plain": [
              "(7875000, 11)"
            ]
          },
          "metadata": {},
          "execution_count": 5
        }
      ]
    },
    {
      "cell_type": "code",
      "source": [
        "df['Общая занимаемая площадь'] = df['Количество рабочих мест в openspace'] * df['Планируемая площадь для р/места в openspace'] + \\\n",
        "                                 df['Количество рабочих мест в офисах'] * df['Планируемая площадь для р/места в офисе']"
      ],
      "metadata": {
        "id": "Ye-A5GkOPClJ"
      },
      "execution_count": 6,
      "outputs": []
    },
    {
      "cell_type": "code",
      "source": [
        "# уберем комбинации, в которых площадь занимаемая всеми работниками больше допустимой\n",
        "df = df.loc[df['Площадь помещения'] > df['Общая занимаемая площадь']]\n",
        "df.shape"
      ],
      "metadata": {
        "colab": {
          "base_uri": "https://localhost:8080/"
        },
        "id": "X0VPyUmjJlEd",
        "outputId": "e0389572-90b8-4da5-cb56-6ba4cac12456"
      },
      "execution_count": 7,
      "outputs": [
        {
          "output_type": "execute_result",
          "data": {
            "text/plain": [
              "(3290700, 12)"
            ]
          },
          "metadata": {},
          "execution_count": 7
        }
      ]
    },
    {
      "cell_type": "code",
      "source": [
        " # уберем комбинации, в которых площадь занимаемая всеми работниками составляет меньше 90% от допустимой\n",
        " df = df.loc[df['Общая занимаемая площадь'] / df['Площадь помещения'] > 0.9]\n",
        "df.shape"
      ],
      "metadata": {
        "colab": {
          "base_uri": "https://localhost:8080/"
        },
        "id": "bPz1OqgzO4y2",
        "outputId": "a4b062de-cc03-4246-dffd-9d98cfabf1a6"
      },
      "execution_count": 8,
      "outputs": [
        {
          "output_type": "execute_result",
          "data": {
            "text/plain": [
              "(511350, 12)"
            ]
          },
          "metadata": {},
          "execution_count": 8
        }
      ]
    },
    {
      "cell_type": "code",
      "source": [
        "df['Доходы, руб'] = np.ceil((df['Количество рабочих мест в openspace'] * df['Цена за месяц работы в openspace']) * df['Средняя ежедневная загрузка']) + \\\n",
        "                    np.ceil((df['Количество рабочих мест в офисах'] * df['Цена за месяц работы в офисе']) * df['Средняя ежедневная загрузка'])"
      ],
      "metadata": {
        "id": "FfT_szxoXi6y",
        "colab": {
          "base_uri": "https://localhost:8080/"
        },
        "outputId": "adda3139-08a4-48fd-be56-6504338cf585"
      },
      "execution_count": 9,
      "outputs": [
        {
          "output_type": "stream",
          "name": "stderr",
          "text": [
            "<ipython-input-9-4f9cee41d70c>:1: SettingWithCopyWarning: \n",
            "A value is trying to be set on a copy of a slice from a DataFrame.\n",
            "Try using .loc[row_indexer,col_indexer] = value instead\n",
            "\n",
            "See the caveats in the documentation: https://pandas.pydata.org/pandas-docs/stable/user_guide/indexing.html#returning-a-view-versus-a-copy\n",
            "  df['Доходы, руб'] = np.ceil((df['Количество рабочих мест в openspace'] * df['Цена за месяц работы в openspace']) * df['Средняя ежедневная загрузка']) + \\\n"
          ]
        }
      ]
    },
    {
      "cell_type": "code",
      "source": [
        "df['Расходы, руб'] = df['Площадь помещения'] * df['Цена за м2'] + \\\n",
        "                     df['Сумма комунальных платежей'] + \\\n",
        "                     df['Ежемесячные расходы']"
      ],
      "metadata": {
        "colab": {
          "base_uri": "https://localhost:8080/"
        },
        "id": "QRFyN4aGJZwW",
        "outputId": "11d2a2ac-95fb-459f-98b0-68809ca65b57"
      },
      "execution_count": 10,
      "outputs": [
        {
          "output_type": "stream",
          "name": "stderr",
          "text": [
            "<ipython-input-10-07a3e2b36383>:1: SettingWithCopyWarning: \n",
            "A value is trying to be set on a copy of a slice from a DataFrame.\n",
            "Try using .loc[row_indexer,col_indexer] = value instead\n",
            "\n",
            "See the caveats in the documentation: https://pandas.pydata.org/pandas-docs/stable/user_guide/indexing.html#returning-a-view-versus-a-copy\n",
            "  df['Расходы, руб'] = df['Площадь помещения'] * df['Цена за м2'] + \\\n"
          ]
        }
      ]
    },
    {
      "cell_type": "code",
      "source": [
        "df['Прибыль без НДС, руб'] = df['Доходы, руб'] - df['Расходы, руб']"
      ],
      "metadata": {
        "colab": {
          "base_uri": "https://localhost:8080/"
        },
        "id": "mofRSDZqKt-u",
        "outputId": "fb4c6699-9091-4a0f-f5aa-953c14e94d18"
      },
      "execution_count": 11,
      "outputs": [
        {
          "output_type": "stream",
          "name": "stderr",
          "text": [
            "<ipython-input-11-497770fe6596>:1: SettingWithCopyWarning: \n",
            "A value is trying to be set on a copy of a slice from a DataFrame.\n",
            "Try using .loc[row_indexer,col_indexer] = value instead\n",
            "\n",
            "See the caveats in the documentation: https://pandas.pydata.org/pandas-docs/stable/user_guide/indexing.html#returning-a-view-versus-a-copy\n",
            "  df['Прибыль без НДС, руб'] = df['Доходы, руб'] - df['Расходы, руб']\n"
          ]
        }
      ]
    },
    {
      "cell_type": "code",
      "source": [
        "df['Чистая прибыль, руб'] = df['Прибыль без НДС, руб'].apply(lambda x: x * 0.8 if x < 0 else x)"
      ],
      "metadata": {
        "id": "Z5itdihsLbaI"
      },
      "execution_count": 12,
      "outputs": []
    },
    {
      "cell_type": "code",
      "source": [
        "df['Чистая прибыль, руб'].hist()"
      ],
      "metadata": {
        "colab": {
          "base_uri": "https://localhost:8080/",
          "height": 447
        },
        "id": "-AAr_iUsLlSg",
        "outputId": "a477db57-b29f-4e09-d2d1-13928f2de9bb"
      },
      "execution_count": 13,
      "outputs": [
        {
          "output_type": "execute_result",
          "data": {
            "text/plain": [
              "<Axes: >"
            ]
          },
          "metadata": {},
          "execution_count": 13
        },
        {
          "output_type": "display_data",
          "data": {
            "text/plain": [
              "<Figure size 640x480 with 1 Axes>"
            ],
            "image/png": "[encoded data removed]"
          },
          "metadata": {}
        }
      ]
    },
    {
      "cell_type": "code",
      "source": [
        "df.sort_values(by='Чистая прибыль, руб').head(10)"
      ],
      "metadata": {
        "colab": {
          "base_uri": "https://localhost:8080/",
          "height": 514
        },
        "id": "I2z1LDKMLrdw",
        "outputId": "437a10a1-ed3b-4462-f163-4e570e9556fd"
      },
      "execution_count": 14,
      "outputs": [
        {
          "output_type": "execute_result",
          "data": {
            "text/plain": [
              "         Площадь помещения  Цена за м2  Количество рабочих мест в openspace  \\\n",
              "7746914                110        2000                                   17   \n",
              "7747075                110        2000                                   17   \n",
              "7747082                110        2000                                   17   \n",
              "7747089                110        2000                                   17   \n",
              "7747096                110        2000                                   17   \n",
              "7747103                110        2000                                   17   \n",
              "7746928                110        2000                                   17   \n",
              "7746921                110        2000                                   17   \n",
              "7746900                110        2000                                   17   \n",
              "7746907                110        2000                                   17   \n",
              "\n",
              "         Планируемая площадь для р/места в openspace  \\\n",
              "7746914                                         6.00   \n",
              "7747075                                         6.00   \n",
              "7747082                                         6.00   \n",
              "7747089                                         6.00   \n",
              "7747096                                         6.00   \n",
              "7747103                                         6.00   \n",
              "7746928                                         6.00   \n",
              "7746921                                         6.00   \n",
              "7746900                                         6.00   \n",
              "7746907                                         6.00   \n",
              "\n",
              "         Количество рабочих мест в офисах  \\\n",
              "7746914                                 0   \n",
              "7747075                                 0   \n",
              "7747082                                 0   \n",
              "7747089                                 0   \n",
              "7747096                                 0   \n",
              "7747103                                 0   \n",
              "7746928                                 0   \n",
              "7746921                                 0   \n",
              "7746900                                 0   \n",
              "7746907                                 0   \n",
              "\n",
              "         Планируемая площадь для р/места в офисе  \\\n",
              "7746914                                        6   \n",
              "7747075                                        7   \n",
              "7747082                                        7   \n",
              "7747089                                        7   \n",
              "7747096                                        7   \n",
              "7747103                                        7   \n",
              "7746928                                        6   \n",
              "7746921                                        6   \n",
              "7746900                                        6   \n",
              "7746907                                        6   \n",
              "\n",
              "         Цена за месяц работы в openspace  Цена за месяц работы в офисе  \\\n",
              "7746914                              8000                         17000   \n",
              "7747075                              8000                         15000   \n",
              "7747082                              8000                         16000   \n",
              "7747089                              8000                         17000   \n",
              "7747096                              8000                         18000   \n",
              "7747103                              8000                         19000   \n",
              "7746928                              8000                         19000   \n",
              "7746921                              8000                         18000   \n",
              "7746900                              8000                         15000   \n",
              "7746907                              8000                         16000   \n",
              "\n",
              "         Средняя ежедневная загрузка  Сумма комунальных платежей  \\\n",
              "7746914                         0.20                       10000   \n",
              "7747075                         0.20                       10000   \n",
              "7747082                         0.20                       10000   \n",
              "7747089                         0.20                       10000   \n",
              "7747096                         0.20                       10000   \n",
              "7747103                         0.20                       10000   \n",
              "7746928                         0.20                       10000   \n",
              "7746921                         0.20                       10000   \n",
              "7746900                         0.20                       10000   \n",
              "7746907                         0.20                       10000   \n",
              "\n",
              "         Ежемесячные расходы  Общая занимаемая площадь  Доходы, руб  \\\n",
              "7746914                25000                    102.00     27200.00   \n",
              "7747075                25000                    102.00     27200.00   \n",
              "7747082                25000                    102.00     27200.00   \n",
              "7747089                25000                    102.00     27200.00   \n",
              "7747096                25000                    102.00     27200.00   \n",
              "7747103                25000                    102.00     27200.00   \n",
              "7746928                25000                    102.00     27200.00   \n",
              "7746921                25000                    102.00     27200.00   \n",
              "7746900                25000                    102.00     27200.00   \n",
              "7746907                25000                    102.00     27200.00   \n",
              "\n",
              "         Расходы, руб  Прибыль без НДС, руб  Чистая прибыль, руб  \n",
              "7746914        255000            -227800.00           -182240.00  \n",
              "7747075        255000            -227800.00           -182240.00  \n",
              "7747082        255000            -227800.00           -182240.00  \n",
              "7747089        255000            -227800.00           -182240.00  \n",
              "7747096        255000            -227800.00           -182240.00  \n",
              "7747103        255000            -227800.00           -182240.00  \n",
              "7746928        255000            -227800.00           -182240.00  \n",
              "7746921        255000            -227800.00           -182240.00  \n",
              "7746900        255000            -227800.00           -182240.00  \n",
              "7746907        255000            -227800.00           -182240.00  "
            ],
            "text/html": [
              "\n",
              "\n",
              "  <div id=\"df-e2613202-3b87-459a-8308-bfa4bf20250a\">\n",
              "    <div class=\"colab-df-container\">\n",
              "      <div>\n",
              "<style scoped>\n",
              "    .dataframe tbody tr th:only-of-type {\n",
              "        vertical-align: middle;\n",
              "    }\n",
              "\n",
              "    .dataframe tbody tr th {\n",
              "        vertical-align: top;\n",
              "    }\n",
              "\n",
              "    .dataframe thead th {\n",
              "        text-align: right;\n",
              "    }\n",
              "</style>\n",
              "<table border=\"1\" class=\"dataframe\">\n",
              "  <thead>\n",
              "    <tr style=\"text-align: right;\">\n",
              "      <th></th>\n",
              "      <th>Площадь помещения</th>\n",
              "      <th>Цена за м2</th>\n",
              "      <th>Количество рабочих мест в openspace</th>\n",
              "      <th>Планируемая площадь для р/места в openspace</th>\n",
              "      <th>Количество рабочих мест в офисах</th>\n",
              "      <th>Планируемая площадь для р/места в офисе</th>\n",
              "      <th>Цена за месяц работы в openspace</th>\n",
              "      <th>Цена за месяц работы в офисе</th>\n",
              "      <th>Средняя ежедневная загрузка</th>\n",
              "      <th>Сумма комунальных платежей</th>\n",
              "      <th>Ежемесячные расходы</th>\n",
              "      <th>Общая занимаемая площадь</th>\n",
              "      <th>Доходы, руб</th>\n",
              "      <th>Расходы, руб</th>\n",
              "      <th>Прибыль без НДС, руб</th>\n",
              "      <th>Чистая прибыль, руб</th>\n",
              "    </tr>\n",
              "  </thead>\n",
              "  <tbody>\n",
              "    <tr>\n",
              "      <th>7746914</th>\n",
              "      <td>110</td>\n",
              "      <td>2000</td>\n",
              "      <td>17</td>\n",
              "      <td>6.00</td>\n",
              "      <td>0</td>\n",
              "      <td>6</td>\n",
              "      <td>8000</td>\n",
              "      <td>17000</td>\n",
              "      <td>0.20</td>\n",
              "      <td>10000</td>\n",
              "      <td>25000</td>\n",
              "      <td>102.00</td>\n",
              "      <td>27200.00</td>\n",
              "      <td>255000</td>\n",
              "      <td>-227800.00</td>\n",
              "      <td>-182240.00</td>\n",
              "    </tr>\n",
              "    <tr>\n",
              "      <th>7747075</th>\n",
              "      <td>110</td>\n",
              "      <td>2000</td>\n",
              "      <td>17</td>\n",
              "      <td>6.00</td>\n",
              "      <td>0</td>\n",
              "      <td>7</td>\n",
              "      <td>8000</td>\n",
              "      <td>15000</td>\n",
              "      <td>0.20</td>\n",
              "      <td>10000</td>\n",
              "      <td>25000</td>\n",
              "      <td>102.00</td>\n",
              "      <td>27200.00</td>\n",
              "      <td>255000</td>\n",
              "      <td>-227800.00</td>\n",
              "      <td>-182240.00</td>\n",
              "    </tr>\n",
              "    <tr>\n",
              "      <th>7747082</th>\n",
              "      <td>110</td>\n",
              "      <td>2000</td>\n",
              "      <td>17</td>\n",
              "      <td>6.00</td>\n",
              "      <td>0</td>\n",
              "      <td>7</td>\n",
              "      <td>8000</td>\n",
              "      <td>16000</td>\n",
              "      <td>0.20</td>\n",
              "      <td>10000</td>\n",
              "      <td>25000</td>\n",
              "      <td>102.00</td>\n",
              "      <td>27200.00</td>\n",
              "      <td>255000</td>\n",
              "      <td>-227800.00</td>\n",
              "      <td>-182240.00</td>\n",
              "    </tr>\n",
              "    <tr>\n",
              "      <th>7747089</th>\n",
              "      <td>110</td>\n",
              "      <td>2000</td>\n",
              "      <td>17</td>\n",
              "      <td>6.00</td>\n",
              "      <td>0</td>\n",
              "      <td>7</td>\n",
              "      <td>8000</td>\n",
              "      <td>17000</td>\n",
              "      <td>0.20</td>\n",
              "      <td>10000</td>\n",
              "      <td>25000</td>\n",
              "      <td>102.00</td>\n",
              "      <td>27200.00</td>\n",
              "      <td>255000</td>\n",
              "      <td>-227800.00</td>\n",
              "      <td>-182240.00</td>\n",
              "    </tr>\n",
              "    <tr>\n",
              "      <th>7747096</th>\n",
              "      <td>110</td>\n",
              "      <td>2000</td>\n",
              "      <td>17</td>\n",
              "      <td>6.00</td>\n",
              "      <td>0</td>\n",
              "      <td>7</td>\n",
              "      <td>8000</td>\n",
              "      <td>18000</td>\n",
              "      <td>0.20</td>\n",
              "      <td>10000</td>\n",
              "      <td>25000</td>\n",
              "      <td>102.00</td>\n",
              "      <td>27200.00</td>\n",
              "      <td>255000</td>\n",
              "      <td>-227800.00</td>\n",
              "      <td>-182240.00</td>\n",
              "    </tr>\n",
              "    <tr>\n",
              "      <th>7747103</th>\n",
              "      <td>110</td>\n",
              "      <td>2000</td>\n",
              "      <td>17</td>\n",
              "      <td>6.00</td>\n",
              "      <td>0</td>\n",
              "      <td>7</td>\n",
              "      <td>8000</td>\n",
              "      <td>19000</td>\n",
              "      <td>0.20</td>\n",
              "      <td>10000</td>\n",
              "      <td>25000</td>\n",
              "      <td>102.00</td>\n",
              "      <td>27200.00</td>\n",
              "      <td>255000</td>\n",
              "      <td>-227800.00</td>\n",
              "      <td>-182240.00</td>\n",
              "    </tr>\n",
              "    <tr>\n",
              "      <th>7746928</th>\n",
              "      <td>110</td>\n",
              "      <td>2000</td>\n",
              "      <td>17</td>\n",
              "      <td>6.00</td>\n",
              "      <td>0</td>\n",
              "      <td>6</td>\n",
              "      <td>8000</td>\n",
              "      <td>19000</td>\n",
              "      <td>0.20</td>\n",
              "      <td>10000</td>\n",
              "      <td>25000</td>\n",
              "      <td>102.00</td>\n",
              "      <td>27200.00</td>\n",
              "      <td>255000</td>\n",
              "      <td>-227800.00</td>\n",
              "      <td>-182240.00</td>\n",
              "    </tr>\n",
              "    <tr>\n",
              "      <th>7746921</th>\n",
              "      <td>110</td>\n",
              "      <td>2000</td>\n",
              "      <td>17</td>\n",
              "      <td>6.00</td>\n",
              "      <td>0</td>\n",
              "      <td>6</td>\n",
              "      <td>8000</td>\n",
              "      <td>18000</td>\n",
              "      <td>0.20</td>\n",
              "      <td>10000</td>\n",
              "      <td>25000</td>\n",
              "      <td>102.00</td>\n",
              "      <td>27200.00</td>\n",
              "      <td>255000</td>\n",
              "      <td>-227800.00</td>\n",
              "      <td>-182240.00</td>\n",
              "    </tr>\n",
              "    <tr>\n",
              "      <th>7746900</th>\n",
              "      <td>110</td>\n",
              "      <td>2000</td>\n",
              "      <td>17</td>\n",
              "      <td>6.00</td>\n",
              "      <td>0</td>\n",
              "      <td>6</td>\n",
              "      <td>8000</td>\n",
              "      <td>15000</td>\n",
              "      <td>0.20</td>\n",
              "      <td>10000</td>\n",
              "      <td>25000</td>\n",
              "      <td>102.00</td>\n",
              "      <td>27200.00</td>\n",
              "      <td>255000</td>\n",
              "      <td>-227800.00</td>\n",
              "      <td>-182240.00</td>\n",
              "    </tr>\n",
              "    <tr>\n",
              "      <th>7746907</th>\n",
              "      <td>110</td>\n",
              "      <td>2000</td>\n",
              "      <td>17</td>\n",
              "      <td>6.00</td>\n",
              "      <td>0</td>\n",
              "      <td>6</td>\n",
              "      <td>8000</td>\n",
              "      <td>16000</td>\n",
              "      <td>0.20</td>\n",
              "      <td>10000</td>\n",
              "      <td>25000</td>\n",
              "      <td>102.00</td>\n",
              "      <td>27200.00</td>\n",
              "      <td>255000</td>\n",
              "      <td>-227800.00</td>\n",
              "      <td>-182240.00</td>\n",
              "    </tr>\n",
              "  </tbody>\n",
              "</table>\n",
              "</div>\n",
              "      <button class=\"colab-df-convert\" onclick=\"convertToInteractive('df-e2613202-3b87-459a-8308-bfa4bf20250a')\"\n",
              "              title=\"Convert this dataframe to an interactive table.\"\n",
              "              style=\"display:none;\">\n",
              "\n",
              "  <svg xmlns=\"http://www.w3.org/2000/svg\" height=\"24px\"viewBox=\"0 0 24 24\"\n",
              "       width=\"24px\">\n",
              "    <path d=\"M0 0h24v24H0V0z\" fill=\"none\"/>\n",
              "    <path d=\"M18.56 5.44l.94 2.06.94-2.06 2.06-.94-2.06-.94-.94-2.06-.94 2.06-2.06.94zm-11 1L8.5 8.5l.94-2.06 2.06-.94-2.06-.94L8.5 2.5l-.94 2.06-2.06.94zm10 10l.94 2.06.94-2.06 2.06-.94-2.06-.94-.94-2.06-.94 2.06-2.06.94z\"/><path d=\"M17.41 7.96l-1.37-1.37c-.4-.4-.92-.59-1.43-.59-.52 0-1.04.2-1.43.59L10.3 9.45l-7.72 7.72c-.78.78-.78 2.05 0 2.83L4 21.41c.39.39.9.59 1.41.59.51 0 1.02-.2 1.41-.59l7.78-7.78 2.81-2.81c.8-.78.8-2.07 0-2.86zM5.41 20L4 18.59l7.72-7.72 1.47 1.35L5.41 20z\"/>\n",
              "  </svg>\n",
              "      </button>\n",
              "\n",
              "\n",
              "\n",
              "    <div id=\"df-c17b757a-8ea2-4c11-8839-ac7858c3e709\">\n",
              "      <button class=\"colab-df-quickchart\" onclick=\"quickchart('df-c17b757a-8ea2-4c11-8839-ac7858c3e709')\"\n",
              "              title=\"Suggest charts.\"\n",
              "              style=\"display:none;\">\n",
              "\n",
              "<svg xmlns=\"http://www.w3.org/2000/svg\" height=\"24px\"viewBox=\"0 0 24 24\"\n",
              "     width=\"24px\">\n",
              "    <g>\n",
              "        <path d=\"M19 3H5c-1.1 0-2 .9-2 2v14c0 1.1.9 2 2 2h14c1.1 0 2-.9 2-2V5c0-1.1-.9-2-2-2zM9 17H7v-7h2v7zm4 0h-2V7h2v10zm4 0h-2v-4h2v4z\"/>\n",
              "    </g>\n",
              "</svg>\n",
              "      </button>\n",
              "    </div>\n",
              "\n",
              "<style>\n",
              "  .colab-df-quickchart {\n",
              "    background-color: #E8F0FE;\n",
              "    border: none;\n",
              "    border-radius: 50%;\n",
              "    cursor: pointer;\n",
              "    display: none;\n",
              "    fill: #1967D2;\n",
              "    height: 32px;\n",
              "    padding: 0 0 0 0;\n",
              "    width: 32px;\n",
              "  }\n",
              "\n",
              "  .colab-df-quickchart:hover {\n",
              "    background-color: #E2EBFA;\n",
              "    box-shadow: 0px 1px 2px rgba(60, 64, 67, 0.3), 0px 1px 3px 1px rgba(60, 64, 67, 0.15);\n",
              "    fill: #174EA6;\n",
              "  }\n",
              "\n",
              "  [theme=dark] .colab-df-quickchart {\n",
              "    background-color: #3B4455;\n",
              "    fill: #D2E3FC;\n",
              "  }\n",
              "\n",
              "  [theme=dark] .colab-df-quickchart:hover {\n",
              "    background-color: #434B5C;\n",
              "    box-shadow: 0px 1px 3px 1px rgba(0, 0, 0, 0.15);\n",
              "    filter: drop-shadow(0px 1px 2px rgba(0, 0, 0, 0.3));\n",
              "    fill: #FFFFFF;\n",
              "  }\n",
              "</style>\n",
              "\n",
              "    <script>\n",
              "      async function quickchart(key) {\n",
              "        const containerElement = document.querySelector('#' + key);\n",
              "        const charts = await google.colab.kernel.invokeFunction(\n",
              "            'suggestCharts', [key], {});\n",
              "      }\n",
              "    </script>\n",
              "\n",
              "      <script>\n",
              "\n",
              "function displayQuickchartButton(domScope) {\n",
              "  let quickchartButtonEl =\n",
              "    domScope.querySelector('#df-c17b757a-8ea2-4c11-8839-ac7858c3e709 button.colab-df-quickchart');\n",
              "  quickchartButtonEl.style.display =\n",
              "    google.colab.kernel.accessAllowed ? 'block' : 'none';\n",
              "}\n",
              "\n",
              "        displayQuickchartButton(document);\n",
              "      </script>\n",
              "      <style>\n",
              "    .colab-df-container {\n",
              "      display:flex;\n",
              "      flex-wrap:wrap;\n",
              "      gap: 12px;\n",
              "    }\n",
              "\n",
              "    .colab-df-convert {\n",
              "      background-color: #E8F0FE;\n",
              "      border: none;\n",
              "      border-radius: 50%;\n",
              "      cursor: pointer;\n",
              "      display: none;\n",
              "      fill: #1967D2;\n",
              "      height: 32px;\n",
              "      padding: 0 0 0 0;\n",
              "      width: 32px;\n",
              "    }\n",
              "\n",
              "    .colab-df-convert:hover {\n",
              "      background-color: #E2EBFA;\n",
              "      box-shadow: 0px 1px 2px rgba(60, 64, 67, 0.3), 0px 1px 3px 1px rgba(60, 64, 67, 0.15);\n",
              "      fill: #174EA6;\n",
              "    }\n",
              "\n",
              "    [theme=dark] .colab-df-convert {\n",
              "      background-color: #3B4455;\n",
              "      fill: #D2E3FC;\n",
              "    }\n",
              "\n",
              "    [theme=dark] .colab-df-convert:hover {\n",
              "      background-color: #434B5C;\n",
              "      box-shadow: 0px 1px 3px 1px rgba(0, 0, 0, 0.15);\n",
              "      filter: drop-shadow(0px 1px 2px rgba(0, 0, 0, 0.3));\n",
              "      fill: #FFFFFF;\n",
              "    }\n",
              "  </style>\n",
              "\n",
              "      <script>\n",
              "        const buttonEl =\n",
              "          document.querySelector('#df-e2613202-3b87-459a-8308-bfa4bf20250a button.colab-df-convert');\n",
              "        buttonEl.style.display =\n",
              "          google.colab.kernel.accessAllowed ? 'block' : 'none';\n",
              "\n",
              "        async function convertToInteractive(key) {\n",
              "          const element = document.querySelector('#df-e2613202-3b87-459a-8308-bfa4bf20250a');\n",
              "          const dataTable =\n",
              "            await google.colab.kernel.invokeFunction('convertToInteractive',\n",
              "                                                     [key], {});\n",
              "          if (!dataTable) return;\n",
              "\n",
              "          const docLinkHtml = 'Like what you see? Visit the ' +\n",
              "            '<a target=\"_blank\" href=https://colab.research.google.com/notebooks/data_table.ipynb>data table notebook</a>'\n",
              "            + ' to learn more about interactive tables.';\n",
              "          element.innerHTML = '';\n",
              "          dataTable['output_type'] = 'display_data';\n",
              "          await google.colab.output.renderOutput(dataTable, element);\n",
              "          const docLink = document.createElement('div');\n",
              "          docLink.innerHTML = docLinkHtml;\n",
              "          element.appendChild(docLink);\n",
              "        }\n",
              "      </script>\n",
              "    </div>\n",
              "  </div>\n"
            ]
          },
          "metadata": {},
          "execution_count": 14
        }
      ]
    },
    {
      "cell_type": "code",
      "source": [
        "df.corr()['Чистая прибыль, руб'].dropna().sort_values()"
      ],
      "metadata": {
        "colab": {
          "base_uri": "https://localhost:8080/"
        },
        "id": "1-R1MzTMNqMp",
        "outputId": "1426f7df-381d-41d7-c324-7b28d4109c77"
      },
      "execution_count": 15,
      "outputs": [
        {
          "output_type": "execute_result",
          "data": {
            "text/plain": [
              "Цена за м2                                    -0.63\n",
              "Расходы, руб                                  -0.62\n",
              "Планируемая площадь для р/места в openspace   -0.19\n",
              "Площадь помещения                             -0.17\n",
              "Общая занимаемая площадь                      -0.16\n",
              "Количество рабочих мест в openspace           -0.04\n",
              "Планируемая площадь для р/места в офисе       -0.02\n",
              "Цена за месяц работы в офисе                   0.04\n",
              "Количество рабочих мест в офисах               0.08\n",
              "Цена за месяц работы в openspace               0.11\n",
              "Доходы, руб                                    0.67\n",
              "Средняя ежедневная загрузка                    0.70\n",
              "Прибыль без НДС, руб                           1.00\n",
              "Чистая прибыль, руб                            1.00\n",
              "Name: Чистая прибыль, руб, dtype: float64"
            ]
          },
          "metadata": {},
          "execution_count": 15
        }
      ]
    },
    {
      "cell_type": "code",
      "source": [
        "def plot_scatter(x, y):\n",
        "  # x = 'Средняя ежедневная загрузка'\n",
        "  # y = 'Чистая прибыль, руб'\n",
        "  plt.scatter(df[x], df[y])\n",
        "  plt.title(f'график зависимости {y} от {x}')\n",
        "  plt.grid(True)\n",
        "  plt.xlabel(x)\n",
        "  plt.ylabel(y)\n",
        "  plt.show()\n"
      ],
      "metadata": {
        "id": "VjimyZyfSLxH"
      },
      "execution_count": 16,
      "outputs": []
    },
    {
      "cell_type": "code",
      "source": [
        "plot_scatter('Средняя ежедневная загрузка', 'Чистая прибыль, руб')"
      ],
      "metadata": {
        "colab": {
          "base_uri": "https://localhost:8080/",
          "height": 472
        },
        "id": "bso5YBZvToK-",
        "outputId": "986eef17-9acf-41f7-e419-99d9cf2023c7"
      },
      "execution_count": 17,
      "outputs": [
        {
          "output_type": "display_data",
          "data": {
            "text/plain": [
              "<Figure size 640x480 with 1 Axes>"
            ],
            "image/png": "[encoded data removed]"
          },
          "metadata": {}
        }
      ]
    },
    {
      "cell_type": "code",
      "source": [
        "plot_scatter('Площадь помещения', 'Чистая прибыль, руб')"
      ],
      "metadata": {
        "colab": {
          "base_uri": "https://localhost:8080/",
          "height": 472
        },
        "id": "Cw9BTo3vVjHL",
        "outputId": "3390de85-a3c8-4f2b-cecf-26e83f1a94b8"
      },
      "execution_count": 18,
      "outputs": [
        {
          "output_type": "display_data",
          "data": {
            "text/plain": [
              "<Figure size 640x480 with 1 Axes>"
            ],
            "image/png": "[encoded data removed]"
          },
          "metadata": {}
        }
      ]
    },
    {
      "cell_type": "code",
      "source": [
        "for s_loc in s:\n",
        "  n_cases = len(df[df['Площадь помещения'] == s_loc])\n",
        "  n_profit = len(df[(df['Чистая прибыль, руб'] > 0) & (df['Площадь помещения'] == s_loc)])\n",
        "  n_default = len(df[(df['Чистая прибыль, руб'] < 0) & (df['Площадь помещения'] == s_loc)])\n",
        "\n",
        "  print(f's={s_loc}м2, всего комбинаций: {n_cases}, доля прибыльных:', round((n_profit / n_default) * 100, 2), '%')"
      ],
      "metadata": {
        "colab": {
          "base_uri": "https://localhost:8080/"
        },
        "id": "MKjACVd4Vm3M",
        "outputId": "f0cf19f8-7c9b-4623-8ed4-a7869a5a45b7"
      },
      "execution_count": 19,
      "outputs": [
        {
          "output_type": "stream",
          "name": "stdout",
          "text": [
            "s=70м2, всего комбинаций: 76650, доля прибыльных: 2.98 %\n",
            "s=80м2, всего комбинаций: 90300, доля прибыльных: 3.94 %\n",
            "s=90м2, всего комбинаций: 101850, доля прибыльных: 4.55 %\n",
            "s=100м2, всего комбинаций: 110250, доля прибыльных: 5.37 %\n",
            "s=110м2, всего комбинаций: 132300, доля прибыльных: 5.73 %\n"
          ]
        }
      ]
    },
    {
      "cell_type": "markdown",
      "source": [
        "Количество успешных комбинаций из всего массива что я нагенерил. Не очень много.\n",
        "\n",
        "Интересно, что для 110м2 количество успешных комбинаций почти в 2 раза больше чем для помещения в 120м2. Это странно.\n",
        "Увеличу квадратуру на 20м2 и посмотрим, отразится ли это на кейсах 120м2.\n",
        "\n",
        "Перезапустил ячейки, состояние стабилизировалось. Теперь видна линейность, что выглядит адекватнее.\n",
        "\n",
        "**Вывод:** Чем больше квадратов - тем, тем больше прибыльных кейсов. Так и должно быть, так как с увеличением квадратуры цена за м2 становится ниже. Но здесь это не учтено, так что с чем связана линейная зависимость непонятно\n",
        "\n",
        "Оказывается благодаря вариативности"
      ],
      "metadata": {
        "id": "Ah3ZIrYLXvfq"
      }
    },
    {
      "cell_type": "markdown",
      "source": [
        "### Аналитика средней нагрузки 50%"
      ],
      "metadata": {
        "id": "BqR4WubIfYBa"
      }
    },
    {
      "cell_type": "code",
      "source": [
        "df_oc50 = df.loc[df['Средняя ежедневная загрузка'] == 0.5]\n",
        "df_oc50.shape"
      ],
      "metadata": {
        "colab": {
          "base_uri": "https://localhost:8080/"
        },
        "id": "2E0B5_Z6f-ug",
        "outputId": "cbb3b3fa-8ba4-4053-c654-ebe90ef87968"
      },
      "execution_count": 20,
      "outputs": [
        {
          "output_type": "execute_result",
          "data": {
            "text/plain": [
              "(73050, 16)"
            ]
          },
          "metadata": {},
          "execution_count": 20
        }
      ]
    },
    {
      "cell_type": "markdown",
      "source": [
        "Оценим, какие факторы в наибольшей степени влияют на прибыль в такой выборке:"
      ],
      "metadata": {
        "id": "zqhdHp1sgYfT"
      }
    },
    {
      "cell_type": "code",
      "source": [
        "df_oc50.corr()['Чистая прибыль, руб'].dropna().sort_values()"
      ],
      "metadata": {
        "colab": {
          "base_uri": "https://localhost:8080/"
        },
        "id": "LKXTWtcyX4hu",
        "outputId": "3bb4039a-0fa3-4db7-af82-606f4f4a58e6"
      },
      "execution_count": 21,
      "outputs": [
        {
          "output_type": "execute_result",
          "data": {
            "text/plain": [
              "Цена за м2                                    -0.89\n",
              "Расходы, руб                                  -0.89\n",
              "Планируемая площадь для р/места в openspace   -0.27\n",
              "Площадь помещения                             -0.24\n",
              "Общая занимаемая площадь                      -0.23\n",
              "Количество рабочих мест в openspace           -0.07\n",
              "Планируемая площадь для р/места в офисе       -0.03\n",
              "Цена за месяц работы в офисе                   0.05\n",
              "Доходы, руб                                    0.07\n",
              "Количество рабочих мест в офисах               0.11\n",
              "Цена за месяц работы в openspace               0.15\n",
              "Чистая прибыль, руб                            1.00\n",
              "Прибыль без НДС, руб                           1.00\n",
              "Name: Чистая прибыль, руб, dtype: float64"
            ]
          },
          "metadata": {},
          "execution_count": 21
        }
      ]
    },
    {
      "cell_type": "markdown",
      "source": [
        "Больших новостей здесь нет."
      ],
      "metadata": {
        "id": "8VHIGXpiiQQ4"
      }
    },
    {
      "cell_type": "markdown",
      "source": [
        "Интересно, есть ли хоть 1 прибыльный кейс с такой загрузкой и макимальной ценой за м2?"
      ],
      "metadata": {
        "id": "-n0aaSFak1wC"
      }
    },
    {
      "cell_type": "code",
      "source": [
        "df_oc50[(df_oc50['Цена за м2'] == df_oc50['Цена за м2'].max()) & (df_oc50['Чистая прибыль, руб'] > 0)]"
      ],
      "metadata": {
        "colab": {
          "base_uri": "https://localhost:8080/",
          "height": 200
        },
        "id": "SrJXayJ_lBTc",
        "outputId": "2634c2fd-a67b-434e-93b7-d7b32ecc5a4e"
      },
      "execution_count": 22,
      "outputs": [
        {
          "output_type": "execute_result",
          "data": {
            "text/plain": [
              "Empty DataFrame\n",
              "Columns: [Площадь помещения, Цена за м2, Количество рабочих мест в openspace, Планируемая площадь для р/места в openspace, Количество рабочих мест в офисах, Планируемая площадь для р/места в офисе, Цена за месяц работы в openspace, Цена за месяц работы в офисе, Средняя ежедневная загрузка, Сумма комунальных платежей, Ежемесячные расходы, Общая занимаемая площадь, Доходы, руб, Расходы, руб, Прибыль без НДС, руб, Чистая прибыль, руб]\n",
              "Index: []"
            ],
            "text/html": [
              "\n",
              "\n",
              "  <div id=\"df-cab6a8e7-fe2c-4dc6-b91a-fe430c840be8\">\n",
              "    <div class=\"colab-df-container\">\n",
              "      <div>\n",
              "<style scoped>\n",
              "    .dataframe tbody tr th:only-of-type {\n",
              "        vertical-align: middle;\n",
              "    }\n",
              "\n",
              "    .dataframe tbody tr th {\n",
              "        vertical-align: top;\n",
              "    }\n",
              "\n",
              "    .dataframe thead th {\n",
              "        text-align: right;\n",
              "    }\n",
              "</style>\n",
              "<table border=\"1\" class=\"dataframe\">\n",
              "  <thead>\n",
              "    <tr style=\"text-align: right;\">\n",
              "      <th></th>\n",
              "      <th>Площадь помещения</th>\n",
              "      <th>Цена за м2</th>\n",
              "      <th>Количество рабочих мест в openspace</th>\n",
              "      <th>Планируемая площадь для р/места в openspace</th>\n",
              "      <th>Количество рабочих мест в офисах</th>\n",
              "      <th>Планируемая площадь для р/места в офисе</th>\n",
              "      <th>Цена за месяц работы в openspace</th>\n",
              "      <th>Цена за месяц работы в офисе</th>\n",
              "      <th>Средняя ежедневная загрузка</th>\n",
              "      <th>Сумма комунальных платежей</th>\n",
              "      <th>Ежемесячные расходы</th>\n",
              "      <th>Общая занимаемая площадь</th>\n",
              "      <th>Доходы, руб</th>\n",
              "      <th>Расходы, руб</th>\n",
              "      <th>Прибыль без НДС, руб</th>\n",
              "      <th>Чистая прибыль, руб</th>\n",
              "    </tr>\n",
              "  </thead>\n",
              "  <tbody>\n",
              "  </tbody>\n",
              "</table>\n",
              "</div>\n",
              "      <button class=\"colab-df-convert\" onclick=\"convertToInteractive('df-cab6a8e7-fe2c-4dc6-b91a-fe430c840be8')\"\n",
              "              title=\"Convert this dataframe to an interactive table.\"\n",
              "              style=\"display:none;\">\n",
              "\n",
              "  <svg xmlns=\"http://www.w3.org/2000/svg\" height=\"24px\"viewBox=\"0 0 24 24\"\n",
              "       width=\"24px\">\n",
              "    <path d=\"M0 0h24v24H0V0z\" fill=\"none\"/>\n",
              "    <path d=\"M18.56 5.44l.94 2.06.94-2.06 2.06-.94-2.06-.94-.94-2.06-.94 2.06-2.06.94zm-11 1L8.5 8.5l.94-2.06 2.06-.94-2.06-.94L8.5 2.5l-.94 2.06-2.06.94zm10 10l.94 2.06.94-2.06 2.06-.94-2.06-.94-.94-2.06-.94 2.06-2.06.94z\"/><path d=\"M17.41 7.96l-1.37-1.37c-.4-.4-.92-.59-1.43-.59-.52 0-1.04.2-1.43.59L10.3 9.45l-7.72 7.72c-.78.78-.78 2.05 0 2.83L4 21.41c.39.39.9.59 1.41.59.51 0 1.02-.2 1.41-.59l7.78-7.78 2.81-2.81c.8-.78.8-2.07 0-2.86zM5.41 20L4 18.59l7.72-7.72 1.47 1.35L5.41 20z\"/>\n",
              "  </svg>\n",
              "      </button>\n",
              "\n",
              "\n",
              "\n",
              "    <div id=\"df-138aabfd-9504-40b4-9484-86dba38d3d9e\">\n",
              "      <button class=\"colab-df-quickchart\" onclick=\"quickchart('df-138aabfd-9504-40b4-9484-86dba38d3d9e')\"\n",
              "              title=\"Suggest charts.\"\n",
              "              style=\"display:none;\">\n",
              "\n",
              "<svg xmlns=\"http://www.w3.org/2000/svg\" height=\"24px\"viewBox=\"0 0 24 24\"\n",
              "     width=\"24px\">\n",
              "    <g>\n",
              "        <path d=\"M19 3H5c-1.1 0-2 .9-2 2v14c0 1.1.9 2 2 2h14c1.1 0 2-.9 2-2V5c0-1.1-.9-2-2-2zM9 17H7v-7h2v7zm4 0h-2V7h2v10zm4 0h-2v-4h2v4z\"/>\n",
              "    </g>\n",
              "</svg>\n",
              "      </button>\n",
              "    </div>\n",
              "\n",
              "<style>\n",
              "  .colab-df-quickchart {\n",
              "    background-color: #E8F0FE;\n",
              "    border: none;\n",
              "    border-radius: 50%;\n",
              "    cursor: pointer;\n",
              "    display: none;\n",
              "    fill: #1967D2;\n",
              "    height: 32px;\n",
              "    padding: 0 0 0 0;\n",
              "    width: 32px;\n",
              "  }\n",
              "\n",
              "  .colab-df-quickchart:hover {\n",
              "    background-color: #E2EBFA;\n",
              "    box-shadow: 0px 1px 2px rgba(60, 64, 67, 0.3), 0px 1px 3px 1px rgba(60, 64, 67, 0.15);\n",
              "    fill: #174EA6;\n",
              "  }\n",
              "\n",
              "  [theme=dark] .colab-df-quickchart {\n",
              "    background-color: #3B4455;\n",
              "    fill: #D2E3FC;\n",
              "  }\n",
              "\n",
              "  [theme=dark] .colab-df-quickchart:hover {\n",
              "    background-color: #434B5C;\n",
              "    box-shadow: 0px 1px 3px 1px rgba(0, 0, 0, 0.15);\n",
              "    filter: drop-shadow(0px 1px 2px rgba(0, 0, 0, 0.3));\n",
              "    fill: #FFFFFF;\n",
              "  }\n",
              "</style>\n",
              "\n",
              "    <script>\n",
              "      async function quickchart(key) {\n",
              "        const containerElement = document.querySelector('#' + key);\n",
              "        const charts = await google.colab.kernel.invokeFunction(\n",
              "            'suggestCharts', [key], {});\n",
              "      }\n",
              "    </script>\n",
              "\n",
              "      <script>\n",
              "\n",
              "function displayQuickchartButton(domScope) {\n",
              "  let quickchartButtonEl =\n",
              "    domScope.querySelector('#df-138aabfd-9504-40b4-9484-86dba38d3d9e button.colab-df-quickchart');\n",
              "  quickchartButtonEl.style.display =\n",
              "    google.colab.kernel.accessAllowed ? 'block' : 'none';\n",
              "}\n",
              "\n",
              "        displayQuickchartButton(document);\n",
              "      </script>\n",
              "      <style>\n",
              "    .colab-df-container {\n",
              "      display:flex;\n",
              "      flex-wrap:wrap;\n",
              "      gap: 12px;\n",
              "    }\n",
              "\n",
              "    .colab-df-convert {\n",
              "      background-color: #E8F0FE;\n",
              "      border: none;\n",
              "      border-radius: 50%;\n",
              "      cursor: pointer;\n",
              "      display: none;\n",
              "      fill: #1967D2;\n",
              "      height: 32px;\n",
              "      padding: 0 0 0 0;\n",
              "      width: 32px;\n",
              "    }\n",
              "\n",
              "    .colab-df-convert:hover {\n",
              "      background-color: #E2EBFA;\n",
              "      box-shadow: 0px 1px 2px rgba(60, 64, 67, 0.3), 0px 1px 3px 1px rgba(60, 64, 67, 0.15);\n",
              "      fill: #174EA6;\n",
              "    }\n",
              "\n",
              "    [theme=dark] .colab-df-convert {\n",
              "      background-color: #3B4455;\n",
              "      fill: #D2E3FC;\n",
              "    }\n",
              "\n",
              "    [theme=dark] .colab-df-convert:hover {\n",
              "      background-color: #434B5C;\n",
              "      box-shadow: 0px 1px 3px 1px rgba(0, 0, 0, 0.15);\n",
              "      filter: drop-shadow(0px 1px 2px rgba(0, 0, 0, 0.3));\n",
              "      fill: #FFFFFF;\n",
              "    }\n",
              "  </style>\n",
              "\n",
              "      <script>\n",
              "        const buttonEl =\n",
              "          document.querySelector('#df-cab6a8e7-fe2c-4dc6-b91a-fe430c840be8 button.colab-df-convert');\n",
              "        buttonEl.style.display =\n",
              "          google.colab.kernel.accessAllowed ? 'block' : 'none';\n",
              "\n",
              "        async function convertToInteractive(key) {\n",
              "          const element = document.querySelector('#df-cab6a8e7-fe2c-4dc6-b91a-fe430c840be8');\n",
              "          const dataTable =\n",
              "            await google.colab.kernel.invokeFunction('convertToInteractive',\n",
              "                                                     [key], {});\n",
              "          if (!dataTable) return;\n",
              "\n",
              "          const docLinkHtml = 'Like what you see? Visit the ' +\n",
              "            '<a target=\"_blank\" href=https://colab.research.google.com/notebooks/data_table.ipynb>data table notebook</a>'\n",
              "            + ' to learn more about interactive tables.';\n",
              "          element.innerHTML = '';\n",
              "          dataTable['output_type'] = 'display_data';\n",
              "          await google.colab.output.renderOutput(dataTable, element);\n",
              "          const docLink = document.createElement('div');\n",
              "          docLink.innerHTML = docLinkHtml;\n",
              "          element.appendChild(docLink);\n",
              "        }\n",
              "      </script>\n",
              "    </div>\n",
              "  </div>\n"
            ]
          },
          "metadata": {},
          "execution_count": 22
        }
      ]
    },
    {
      "cell_type": "markdown",
      "source": [
        "Хах, ни одного прибыльного кейса при половине загрузки и цене за квадрат в 2000руб. Не то что даже сверх прибыли, а даже нулевого. Это очень плохо."
      ],
      "metadata": {
        "id": "zY5lfI2qljIv"
      }
    },
    {
      "cell_type": "markdown",
      "source": [
        "Посмотрим на зависимость успешных кейсов от цены за квадрат:"
      ],
      "metadata": {
        "id": "aUrCm522mHVr"
      }
    },
    {
      "cell_type": "code",
      "source": [
        "buff = []\n",
        "for price in price_perm2:\n",
        "  print(price)\n",
        "  buff += [df_oc50[(df_oc50['Цена за м2'] == price) & (df_oc50['Чистая прибыль, руб'] > 0)]['Чистая прибыль, руб'].count()]\n",
        "print(buff)"
      ],
      "metadata": {
        "colab": {
          "base_uri": "https://localhost:8080/"
        },
        "id": "GXZ3J_-UmPdw",
        "outputId": "36b78be1-8e39-4112-af55-6ba2a6759116"
      },
      "execution_count": 23,
      "outputs": [
        {
          "output_type": "stream",
          "name": "stdout",
          "text": [
            "1000\n",
            "1200\n",
            "1400\n",
            "1600\n",
            "1800\n",
            "2000\n",
            "[0, 0, 0, 0, 0, 0]\n"
          ]
        }
      ]
    },
    {
      "cell_type": "markdown",
      "source": [
        "Упс! Нет ни одного успешного кейса. Эта **модель похоже нежизнеспособна**"
      ],
      "metadata": {
        "id": "oMY7bHzCnoRI"
      }
    },
    {
      "cell_type": "markdown",
      "source": [
        "Напоследок посмотрим, в самых успешных кейсах какую долю дохода приносят офисы и опеспейс. Возможно, офисы - совсем невыгодное вложение"
      ],
      "metadata": {
        "id": "gB4UMzD9pqu8"
      }
    },
    {
      "cell_type": "code",
      "source": [
        "dict_loc = {'Прибыльные модели' : df[df['Чистая прибыль, руб'] > 0],\n",
        "            'Убыточные модели' : df[df['Чистая прибыль, руб'] < 0],\n",
        "            'Все модели' : df\n",
        "}\n",
        "\n",
        "for models in dict_loc.keys():\n",
        "\n",
        "  buff_office = []\n",
        "  buff_openspace = []\n",
        "\n",
        "  df_loc = dict_loc[models]\n",
        "\n",
        "  for occ in occupancy:\n",
        "    df_loc2 = df_loc[df_loc['Средняя ежедневная загрузка'] == occ].copy()\n",
        "\n",
        "    df_loc2['Доход от сдачи офиса, руб'] = np.ceil((df_loc2['Количество рабочих мест в офисах'] * df_loc2['Цена за месяц работы в офисе']) * occ)\n",
        "    mean_profit_office = df_loc2['Доход от сдачи офиса, руб'].median()\n",
        "\n",
        "    df_loc2['Доход от сдачи openspace, руб'] = np.ceil((df_loc2['Количество рабочих мест в openspace'] * df_loc2['Цена за месяц работы в openspace']) * occ)\n",
        "    mean_profit_openspace = df_loc2['Доход от сдачи openspace, руб'].median()\n",
        "\n",
        "    if mean_profit_office is np.nan:\n",
        "      buff_office += [0]\n",
        "    else:\n",
        "      buff_office += [mean_profit_office]\n",
        "\n",
        "    if mean_profit_openspace is np.nan:\n",
        "      buff_openspace += [0]\n",
        "    else:\n",
        "      buff_openspace += [mean_profit_openspace]\n",
        "\n",
        "  width = 0.35\n",
        "\n",
        "  # Создаем объекты для графика\n",
        "  fig, ax = plt.subplots()\n",
        "\n",
        "  # Создаем столбцы для каждой категории\n",
        "  bar1 = ax.bar(np.arange(len(occupancy)), buff_office, width, label='Медианные доходы от сдачи офисов, руб')\n",
        "  bar2 = ax.bar(np.arange(len(occupancy)) + width, buff_openspace, width, label='Медианные доходы от сдачи опенспейса, руб')\n",
        "\n",
        "  # Добавляем подписи осей и заголовок\n",
        "\n",
        "  ax.set_xlabel('Загруженность, %')\n",
        "  ax.set_ylabel('Медианная приюыль')\n",
        "  ax.set_title(f'{models}. Сравнение медианной прибыли офисов и опенспейса')\n",
        "  ax.set_xticks(np.arange(len(occupancy)) + width / 2)\n",
        "  ax.set_xticklabels(occupancy)\n",
        "\n",
        "  ax.legend()\n",
        "  plt.show()\n",
        "\n",
        "\n",
        "\n",
        "\n",
        "\n"
      ],
      "metadata": {
        "colab": {
          "base_uri": "https://localhost:8080/",
          "height": 1000
        },
        "id": "o8-YFOj8qEW5",
        "outputId": "08e0dde9-d64a-4c10-fe49-747a2debebfd"
      },
      "execution_count": 35,
      "outputs": [
        {
          "output_type": "display_data",
          "data": {
            "text/plain": [
              "<Figure size 640x480 with 1 Axes>"
            ],
            "image/png": "[encoded data removed]"
          },
          "metadata": {}
        },
        {
          "output_type": "display_data",
          "data": {
            "text/plain": [
              "<Figure size 640x480 with 1 Axes>"
            ],
            "image/png": "[encoded data removed]"
          },
          "metadata": {}
        },
        {
          "output_type": "display_data",
          "data": {
            "text/plain": [
              "<Figure size 640x480 with 1 Axes>"
            ],
            "image/png": "[encoded data removed]"
          },
          "metadata": {}
        }
      ]
    },
    {
      "cell_type": "markdown",
      "source": [
        "**Вывод №1:** Сдача офисов приносит меньшую прибыль в сравнении с опенспейсами. В среднем втрое.\n",
        "\n",
        "*Зато, сдача офисов - это долгосрочный стабильный доход. Что является плюсом*.\n",
        "\n",
        "**Вывод №2:** Ежемесячный уровень дохода, необходимый чтобы не вылететь в минус в этом месяце **~160 тыс. рублей**.\n",
        "\n",
        "**Вывод №3** При понижении заполняемости коворкинга - уровень дохода  остается на прежнем уровне. Это возможно только в случае увеличения цен или уменьшения издержек.\n",
        "\n",
        "**Предложение:** нужно найти способ **сделать коворкинг безубыточным** даже в случае 20% заполняемости"
      ],
      "metadata": {
        "id": "3nLh1CjOv8_W"
      }
    },
    {
      "cell_type": "markdown",
      "source": [
        "Посмотрим еще на **ТОП5 самых** прибыльных комбинаций:"
      ],
      "metadata": {
        "id": "C_FP0Us92NVw"
      }
    },
    {
      "cell_type": "code",
      "source": [
        "df.sort_values('Чистая прибыль, руб', ascending=False).head()"
      ],
      "metadata": {
        "colab": {
          "base_uri": "https://localhost:8080/",
          "height": 357
        },
        "id": "63wXA-Pb2X2O",
        "outputId": "12650168-a1d2-49ce-b7df-fb31f599e21d"
      },
      "execution_count": 38,
      "outputs": [
        {
          "output_type": "execute_result",
          "data": {
            "text/plain": [
              "         Площадь помещения  Цена за м2  Количество рабочих мест в openspace  \\\n",
              "6469574                110        1000                                   21   \n",
              "6448924                110        1000                                   19   \n",
              "6469567                110        1000                                   21   \n",
              "6448917                110        1000                                   19   \n",
              "6469560                110        1000                                   21   \n",
              "\n",
              "         Планируемая площадь для р/места в openspace  \\\n",
              "6469574                                         4.00   \n",
              "6448924                                         4.00   \n",
              "6469567                                         4.00   \n",
              "6448917                                         4.00   \n",
              "6469560                                         4.00   \n",
              "\n",
              "         Количество рабочих мест в офисах  \\\n",
              "6469574                                 4   \n",
              "6448924                                 5   \n",
              "6469567                                 4   \n",
              "6448917                                 5   \n",
              "6469560                                 4   \n",
              "\n",
              "         Планируемая площадь для р/места в офисе  \\\n",
              "6469574                                        6   \n",
              "6448924                                        6   \n",
              "6469567                                        6   \n",
              "6448917                                        6   \n",
              "6469560                                        6   \n",
              "\n",
              "         Цена за месяц работы в openspace  Цена за месяц работы в офисе  \\\n",
              "6469574                             10000                         19000   \n",
              "6448924                             10000                         19000   \n",
              "6469567                             10000                         18000   \n",
              "6448917                             10000                         18000   \n",
              "6469560                             10000                         17000   \n",
              "\n",
              "         Средняя ежедневная загрузка  Сумма комунальных платежей  \\\n",
              "6469574                         0.80                       10000   \n",
              "6448924                         0.80                       10000   \n",
              "6469567                         0.80                       10000   \n",
              "6448917                         0.80                       10000   \n",
              "6469560                         0.80                       10000   \n",
              "\n",
              "         Ежемесячные расходы  Общая занимаемая площадь  Доходы, руб  \\\n",
              "6469574                25000                    108.00    228800.00   \n",
              "6448924                25000                    106.00    228000.00   \n",
              "6469567                25000                    108.00    225600.00   \n",
              "6448917                25000                    106.00    224000.00   \n",
              "6469560                25000                    108.00    222400.00   \n",
              "\n",
              "         Расходы, руб  Прибыль без НДС, руб  Чистая прибыль, руб  \n",
              "6469574        145000              83800.00             83800.00  \n",
              "6448924        145000              83000.00             83000.00  \n",
              "6469567        145000              80600.00             80600.00  \n",
              "6448917        145000              79000.00             79000.00  \n",
              "6469560        145000              77400.00             77400.00  "
            ],
            "text/html": [
              "\n",
              "\n",
              "  <div id=\"df-bf123522-fe9a-4582-9e06-6700186911b2\">\n",
              "    <div class=\"colab-df-container\">\n",
              "      <div>\n",
              "<style scoped>\n",
              "    .dataframe tbody tr th:only-of-type {\n",
              "        vertical-align: middle;\n",
              "    }\n",
              "\n",
              "    .dataframe tbody tr th {\n",
              "        vertical-align: top;\n",
              "    }\n",
              "\n",
              "    .dataframe thead th {\n",
              "        text-align: right;\n",
              "    }\n",
              "</style>\n",
              "<table border=\"1\" class=\"dataframe\">\n",
              "  <thead>\n",
              "    <tr style=\"text-align: right;\">\n",
              "      <th></th>\n",
              "      <th>Площадь помещения</th>\n",
              "      <th>Цена за м2</th>\n",
              "      <th>Количество рабочих мест в openspace</th>\n",
              "      <th>Планируемая площадь для р/места в openspace</th>\n",
              "      <th>Количество рабочих мест в офисах</th>\n",
              "      <th>Планируемая площадь для р/места в офисе</th>\n",
              "      <th>Цена за месяц работы в openspace</th>\n",
              "      <th>Цена за месяц работы в офисе</th>\n",
              "      <th>Средняя ежедневная загрузка</th>\n",
              "      <th>Сумма комунальных платежей</th>\n",
              "      <th>Ежемесячные расходы</th>\n",
              "      <th>Общая занимаемая площадь</th>\n",
              "      <th>Доходы, руб</th>\n",
              "      <th>Расходы, руб</th>\n",
              "      <th>Прибыль без НДС, руб</th>\n",
              "      <th>Чистая прибыль, руб</th>\n",
              "    </tr>\n",
              "  </thead>\n",
              "  <tbody>\n",
              "    <tr>\n",
              "      <th>6469574</th>\n",
              "      <td>110</td>\n",
              "      <td>1000</td>\n",
              "      <td>21</td>\n",
              "      <td>4.00</td>\n",
              "      <td>4</td>\n",
              "      <td>6</td>\n",
              "      <td>10000</td>\n",
              "      <td>19000</td>\n",
              "      <td>0.80</td>\n",
              "      <td>10000</td>\n",
              "      <td>25000</td>\n",
              "      <td>108.00</td>\n",
              "      <td>228800.00</td>\n",
              "      <td>145000</td>\n",
              "      <td>83800.00</td>\n",
              "      <td>83800.00</td>\n",
              "    </tr>\n",
              "    <tr>\n",
              "      <th>6448924</th>\n",
              "      <td>110</td>\n",
              "      <td>1000</td>\n",
              "      <td>19</td>\n",
              "      <td>4.00</td>\n",
              "      <td>5</td>\n",
              "      <td>6</td>\n",
              "      <td>10000</td>\n",
              "      <td>19000</td>\n",
              "      <td>0.80</td>\n",
              "      <td>10000</td>\n",
              "      <td>25000</td>\n",
              "      <td>106.00</td>\n",
              "      <td>228000.00</td>\n",
              "      <td>145000</td>\n",
              "      <td>83000.00</td>\n",
              "      <td>83000.00</td>\n",
              "    </tr>\n",
              "    <tr>\n",
              "      <th>6469567</th>\n",
              "      <td>110</td>\n",
              "      <td>1000</td>\n",
              "      <td>21</td>\n",
              "      <td>4.00</td>\n",
              "      <td>4</td>\n",
              "      <td>6</td>\n",
              "      <td>10000</td>\n",
              "      <td>18000</td>\n",
              "      <td>0.80</td>\n",
              "      <td>10000</td>\n",
              "      <td>25000</td>\n",
              "      <td>108.00</td>\n",
              "      <td>225600.00</td>\n",
              "      <td>145000</td>\n",
              "      <td>80600.00</td>\n",
              "      <td>80600.00</td>\n",
              "    </tr>\n",
              "    <tr>\n",
              "      <th>6448917</th>\n",
              "      <td>110</td>\n",
              "      <td>1000</td>\n",
              "      <td>19</td>\n",
              "      <td>4.00</td>\n",
              "      <td>5</td>\n",
              "      <td>6</td>\n",
              "      <td>10000</td>\n",
              "      <td>18000</td>\n",
              "      <td>0.80</td>\n",
              "      <td>10000</td>\n",
              "      <td>25000</td>\n",
              "      <td>106.00</td>\n",
              "      <td>224000.00</td>\n",
              "      <td>145000</td>\n",
              "      <td>79000.00</td>\n",
              "      <td>79000.00</td>\n",
              "    </tr>\n",
              "    <tr>\n",
              "      <th>6469560</th>\n",
              "      <td>110</td>\n",
              "      <td>1000</td>\n",
              "      <td>21</td>\n",
              "      <td>4.00</td>\n",
              "      <td>4</td>\n",
              "      <td>6</td>\n",
              "      <td>10000</td>\n",
              "      <td>17000</td>\n",
              "      <td>0.80</td>\n",
              "      <td>10000</td>\n",
              "      <td>25000</td>\n",
              "      <td>108.00</td>\n",
              "      <td>222400.00</td>\n",
              "      <td>145000</td>\n",
              "      <td>77400.00</td>\n",
              "      <td>77400.00</td>\n",
              "    </tr>\n",
              "  </tbody>\n",
              "</table>\n",
              "</div>\n",
              "      <button class=\"colab-df-convert\" onclick=\"convertToInteractive('df-bf123522-fe9a-4582-9e06-6700186911b2')\"\n",
              "              title=\"Convert this dataframe to an interactive table.\"\n",
              "              style=\"display:none;\">\n",
              "\n",
              "  <svg xmlns=\"http://www.w3.org/2000/svg\" height=\"24px\"viewBox=\"0 0 24 24\"\n",
              "       width=\"24px\">\n",
              "    <path d=\"M0 0h24v24H0V0z\" fill=\"none\"/>\n",
              "    <path d=\"M18.56 5.44l.94 2.06.94-2.06 2.06-.94-2.06-.94-.94-2.06-.94 2.06-2.06.94zm-11 1L8.5 8.5l.94-2.06 2.06-.94-2.06-.94L8.5 2.5l-.94 2.06-2.06.94zm10 10l.94 2.06.94-2.06 2.06-.94-2.06-.94-.94-2.06-.94 2.06-2.06.94z\"/><path d=\"M17.41 7.96l-1.37-1.37c-.4-.4-.92-.59-1.43-.59-.52 0-1.04.2-1.43.59L10.3 9.45l-7.72 7.72c-.78.78-.78 2.05 0 2.83L4 21.41c.39.39.9.59 1.41.59.51 0 1.02-.2 1.41-.59l7.78-7.78 2.81-2.81c.8-.78.8-2.07 0-2.86zM5.41 20L4 18.59l7.72-7.72 1.47 1.35L5.41 20z\"/>\n",
              "  </svg>\n",
              "      </button>\n",
              "\n",
              "\n",
              "\n",
              "    <div id=\"df-d6ccc6f8-a3f2-4cf1-ab48-45c9ce0493f7\">\n",
              "      <button class=\"colab-df-quickchart\" onclick=\"quickchart('df-d6ccc6f8-a3f2-4cf1-ab48-45c9ce0493f7')\"\n",
              "              title=\"Suggest charts.\"\n",
              "              style=\"display:none;\">\n",
              "\n",
              "<svg xmlns=\"http://www.w3.org/2000/svg\" height=\"24px\"viewBox=\"0 0 24 24\"\n",
              "     width=\"24px\">\n",
              "    <g>\n",
              "        <path d=\"M19 3H5c-1.1 0-2 .9-2 2v14c0 1.1.9 2 2 2h14c1.1 0 2-.9 2-2V5c0-1.1-.9-2-2-2zM9 17H7v-7h2v7zm4 0h-2V7h2v10zm4 0h-2v-4h2v4z\"/>\n",
              "    </g>\n",
              "</svg>\n",
              "      </button>\n",
              "    </div>\n",
              "\n",
              "<style>\n",
              "  .colab-df-quickchart {\n",
              "    background-color: #E8F0FE;\n",
              "    border: none;\n",
              "    border-radius: 50%;\n",
              "    cursor: pointer;\n",
              "    display: none;\n",
              "    fill: #1967D2;\n",
              "    height: 32px;\n",
              "    padding: 0 0 0 0;\n",
              "    width: 32px;\n",
              "  }\n",
              "\n",
              "  .colab-df-quickchart:hover {\n",
              "    background-color: #E2EBFA;\n",
              "    box-shadow: 0px 1px 2px rgba(60, 64, 67, 0.3), 0px 1px 3px 1px rgba(60, 64, 67, 0.15);\n",
              "    fill: #174EA6;\n",
              "  }\n",
              "\n",
              "  [theme=dark] .colab-df-quickchart {\n",
              "    background-color: #3B4455;\n",
              "    fill: #D2E3FC;\n",
              "  }\n",
              "\n",
              "  [theme=dark] .colab-df-quickchart:hover {\n",
              "    background-color: #434B5C;\n",
              "    box-shadow: 0px 1px 3px 1px rgba(0, 0, 0, 0.15);\n",
              "    filter: drop-shadow(0px 1px 2px rgba(0, 0, 0, 0.3));\n",
              "    fill: #FFFFFF;\n",
              "  }\n",
              "</style>\n",
              "\n",
              "    <script>\n",
              "      async function quickchart(key) {\n",
              "        const containerElement = document.querySelector('#' + key);\n",
              "        const charts = await google.colab.kernel.invokeFunction(\n",
              "            'suggestCharts', [key], {});\n",
              "      }\n",
              "    </script>\n",
              "\n",
              "      <script>\n",
              "\n",
              "function displayQuickchartButton(domScope) {\n",
              "  let quickchartButtonEl =\n",
              "    domScope.querySelector('#df-d6ccc6f8-a3f2-4cf1-ab48-45c9ce0493f7 button.colab-df-quickchart');\n",
              "  quickchartButtonEl.style.display =\n",
              "    google.colab.kernel.accessAllowed ? 'block' : 'none';\n",
              "}\n",
              "\n",
              "        displayQuickchartButton(document);\n",
              "      </script>\n",
              "      <style>\n",
              "    .colab-df-container {\n",
              "      display:flex;\n",
              "      flex-wrap:wrap;\n",
              "      gap: 12px;\n",
              "    }\n",
              "\n",
              "    .colab-df-convert {\n",
              "      background-color: #E8F0FE;\n",
              "      border: none;\n",
              "      border-radius: 50%;\n",
              "      cursor: pointer;\n",
              "      display: none;\n",
              "      fill: #1967D2;\n",
              "      height: 32px;\n",
              "      padding: 0 0 0 0;\n",
              "      width: 32px;\n",
              "    }\n",
              "\n",
              "    .colab-df-convert:hover {\n",
              "      background-color: #E2EBFA;\n",
              "      box-shadow: 0px 1px 2px rgba(60, 64, 67, 0.3), 0px 1px 3px 1px rgba(60, 64, 67, 0.15);\n",
              "      fill: #174EA6;\n",
              "    }\n",
              "\n",
              "    [theme=dark] .colab-df-convert {\n",
              "      background-color: #3B4455;\n",
              "      fill: #D2E3FC;\n",
              "    }\n",
              "\n",
              "    [theme=dark] .colab-df-convert:hover {\n",
              "      background-color: #434B5C;\n",
              "      box-shadow: 0px 1px 3px 1px rgba(0, 0, 0, 0.15);\n",
              "      filter: drop-shadow(0px 1px 2px rgba(0, 0, 0, 0.3));\n",
              "      fill: #FFFFFF;\n",
              "    }\n",
              "  </style>\n",
              "\n",
              "      <script>\n",
              "        const buttonEl =\n",
              "          document.querySelector('#df-bf123522-fe9a-4582-9e06-6700186911b2 button.colab-df-convert');\n",
              "        buttonEl.style.display =\n",
              "          google.colab.kernel.accessAllowed ? 'block' : 'none';\n",
              "\n",
              "        async function convertToInteractive(key) {\n",
              "          const element = document.querySelector('#df-bf123522-fe9a-4582-9e06-6700186911b2');\n",
              "          const dataTable =\n",
              "            await google.colab.kernel.invokeFunction('convertToInteractive',\n",
              "                                                     [key], {});\n",
              "          if (!dataTable) return;\n",
              "\n",
              "          const docLinkHtml = 'Like what you see? Visit the ' +\n",
              "            '<a target=\"_blank\" href=https://colab.research.google.com/notebooks/data_table.ipynb>data table notebook</a>'\n",
              "            + ' to learn more about interactive tables.';\n",
              "          element.innerHTML = '';\n",
              "          dataTable['output_type'] = 'display_data';\n",
              "          await google.colab.output.renderOutput(dataTable, element);\n",
              "          const docLink = document.createElement('div');\n",
              "          docLink.innerHTML = docLinkHtml;\n",
              "          element.appendChild(docLink);\n",
              "        }\n",
              "      </script>\n",
              "    </div>\n",
              "  </div>\n"
            ]
          },
          "metadata": {},
          "execution_count": 38
        }
      ]
    },
    {
      "cell_type": "markdown",
      "source": [
        "**Вывод:** Интересно, что несмотря на то, что опенспейс приносит втрое большую прибыль в медиане, и то что есть комбинации совсем без офисов, самыми прибыльными оказались модели с офисами."
      ],
      "metadata": {
        "id": "JHI44msw3ot7"
      }
    },
    {
      "cell_type": "markdown",
      "source": [
        "Еще нужно оценить распределение прибыли в таких моделях"
      ],
      "metadata": {
        "id": "5RHiYP2n4FxR"
      }
    },
    {
      "cell_type": "markdown",
      "source": [
        "### Рассчитаем другую модель:\n",
        "\n",
        "**Круглосуточный коворкинг с оплатой времени фактически проведенном внутри**"
      ],
      "metadata": {
        "id": "DQDEd2Izom2v"
      }
    },
    {
      "cell_type": "markdown",
      "source": [
        "Изменения: совсем убираем"
      ],
      "metadata": {
        "id": "FDiRn64gpaiT"
      }
    },
    {
      "cell_type": "code",
      "source": [],
      "metadata": {
        "id": "qWWMEPkRomDN"
      },
      "execution_count": null,
      "outputs": []
    },
    {
      "cell_type": "code",
      "source": [],
      "metadata": {
        "id": "ynN5xfq6jmES"
      },
      "execution_count": 379,
      "outputs": []
    },
    {
      "cell_type": "code",
      "source": [],
      "metadata": {
        "id": "HpQjs86rX4m2"
      },
      "execution_count": 379,
      "outputs": []
    },
    {
      "cell_type": "code",
      "source": [],
      "metadata": {
        "id": "u7irUTOuheV2"
      },
      "execution_count": 379,
      "outputs": []
    },
    {
      "cell_type": "code",
      "source": [],
      "metadata": {
        "id": "5GlICIX2jk-Q"
      },
      "execution_count": 379,
      "outputs": []
    },
    {
      "cell_type": "code",
      "source": [],
      "metadata": {
        "id": "_0C8J_FnjlAJ"
      },
      "execution_count": 379,
      "outputs": []
    },
    {
      "cell_type": "code",
      "source": [],
      "metadata": {
        "id": "GIz8ysVqjlB6"
      },
      "execution_count": 379,
      "outputs": []
    },
    {
      "cell_type": "code",
      "source": [],
      "metadata": {
        "id": "Z9AX2wxXjlED"
      },
      "execution_count": 379,
      "outputs": []
    }
  ]
}